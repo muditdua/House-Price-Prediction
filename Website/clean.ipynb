{
 "cells": [
  {
   "cell_type": "code",
   "execution_count": null,
   "id": "50b876eb",
   "metadata": {
    "tags": [
     "parameters"
    ]
   },
   "outputs": [],
   "source": [
    "input_path = None\n",
    "output_path = None"
   ]
  },
  {
   "cell_type": "code",
   "execution_count": null,
   "id": "acb9e89d",
   "metadata": {},
   "outputs": [],
   "source": [
    "\n",
    "# Cell 1 - Imports\n",
    "import pandas as pd\n",
    "import numpy as np\n",
    "import joblib\n",
    "import os\n",
    "output_dir = os.path.dirname(output_path)\n",
    "os.makedirs(output_dir, exist_ok=True)\n",
    "\n",
    "# input_filename = \"realtor-data-small.csv\"\n",
    "# filepath = os.path.join(\"uploads\", input_filename)\n"
   ]
  },
  {
   "cell_type": "code",
   "execution_count": null,
   "id": "c2900d4e",
   "metadata": {},
   "outputs": [],
   "source": [
    "# Cell 2 - Accept file_path from Papermill\n",
    "realtordata = pd.read_csv(input_path)\n",
    "realtordata.columns = realtordata.columns.str.strip().str.lower()"
   ]
  },
  {
   "cell_type": "code",
   "execution_count": null,
   "id": "a41b880e",
   "metadata": {},
   "outputs": [],
   "source": [
    "# Cell 3 - Drop rows with missing target or key features\n",
    "realtordata = realtordata.dropna(subset=['price', 'house_size', 'zip_code'])\n",
    "# Cell 3.5 - Log-transform skewed features\n",
    "# (Apply before filling missing values)\n",
    "realtordata['house_size'] = np.log1p(realtordata['house_size'])\n",
    "realtordata['acre_lot'] = np.log1p(realtordata['acre_lot'])\n",
    "#Cell 3.6 - Filter prices between $50,000 and $650,000\n",
    "initial_count = len(realtordata)\n",
    "realtordata = realtordata[(realtordata['price'] >= 50000) & (realtordata['price'] <= 650000)].copy()\n",
    "print(f\"Filtered by price range. Remaining rows: {len(realtordata)}\")\n",
    "print(f\"Dropped rows: {initial_count - len(realtordata)}\")\n"
   ]
  },
  {
   "cell_type": "code",
   "execution_count": 50,
   "id": "b3f54093",
   "metadata": {},
   "outputs": [],
   "source": [
    "# Cell 4 - Fill missing numeric values\n",
    "for col in ['bed', 'bath', 'acre_lot']:\n",
    "    if col in realtordata.columns:\n",
    "        realtordata[col] = realtordata[col].fillna(realtordata[col].median())"
   ]
  },
  {
   "cell_type": "code",
   "execution_count": 51,
   "id": "10f8b42c",
   "metadata": {},
   "outputs": [],
   "source": [
    "# Cell 5 - Fill missing categorical values\n",
    "for col in ['city', 'state']:\n",
    "    if col in realtordata.columns:\n",
    "        realtordata[col] = realtordata[col].fillna(realtordata[col].mode()[0])"
   ]
  },
  {
   "cell_type": "code",
   "execution_count": 52,
   "id": "59e10b70",
   "metadata": {},
   "outputs": [],
   "source": [
    "# Cell 6 - Drop unneeded columns\n",
    "columns_to_drop = ['street', 'status', 'brokered_by', 'prev_sold_date']\n",
    "realtordata = realtordata.drop(columns=[col for col in columns_to_drop if col in realtordata.columns])"
   ]
  },
  {
   "cell_type": "code",
   "execution_count": null,
   "id": "e1922f6d",
   "metadata": {},
   "outputs": [],
   "source": [
    "# Cell 7 - Save webdata with 'state' (optional)\n",
    "webdata = realtordata.copy()"
   ]
  },
  {
   "cell_type": "code",
   "execution_count": null,
   "id": "e16bca4c",
   "metadata": {},
   "outputs": [],
   "source": [
    "#Load the encoder trained on 'city'\n",
    "city_encoder = joblib.load(\"ordinal_encoder_city.pkl\")\n",
    "\n",
    "# Apply encoder to the 'city' column\n",
    "# This replaces the city with an integer encoding\n",
    "realtordata['city'] = city_encoder.transform(realtordata[['city']])\n",
    "# Convert to categorical and set the same categories used during training\n",
    "categories = city_encoder.categories_[0].tolist()\n",
    "realtordata['city'] = pd.Categorical(realtordata['city'], categories=list(range(len(categories))))"
   ]
  },
  {
   "cell_type": "code",
   "execution_count": null,
   "id": "aaaebda1",
   "metadata": {},
   "outputs": [],
   "source": [
    "# Cell 8 - One-hot encode for ML\n",
    "ml_data = pd.get_dummies(realtordata.drop(columns=['price']), columns=['state'], drop_first=True)"
   ]
  },
  {
   "cell_type": "code",
   "execution_count": null,
   "id": "f397d2dd",
   "metadata": {},
   "outputs": [],
   "source": [
    "# Load both models and trained columns\n",
    "quantile_model = joblib.load(\"realtor_quantile_model.pkl\")\n",
    "mean_model = joblib.load(\"realtor_mean_model.pkl\")\n",
    "trained_cols = joblib.load(\"trained_columns.pkl\")\n",
    "\n",
    "#Align columns\n",
    "for col in trained_cols:\n",
    "    if col not in ml_data.columns:\n",
    "        ml_data[col] = 0\n",
    "\n",
    "ml_data = ml_data[trained_cols]\n"
   ]
  },
  {
   "cell_type": "code",
   "execution_count": null,
   "id": "85a09565",
   "metadata": {},
   "outputs": [],
   "source": [
    "# Predict with both models\n",
    "X = ml_data\n",
    "quantile_pred_log = quantile_model.predict(X)\n",
    "mean_pred_log = mean_model.predict(X)\n",
    "\n",
    "# Reverse log1p\n",
    "quantile_pred = np.expm1(quantile_pred_log)\n",
    "mean_pred = np.expm1(mean_pred_log)\n",
    "\n",
    "# Blend predictions\n",
    "final_pred = 0.90 * quantile_pred + 0.10 * mean_pred\n"
   ]
  },
  {
   "cell_type": "code",
   "execution_count": null,
   "id": "e5a0a85a",
   "metadata": {},
   "outputs": [],
   "source": [
    "#Cell 11 - Add prediction to webdata and save final output\n",
    "webdata[\"predicted_price\"] = final_pred.round(0).astype(int)\n",
    "webdata.to_csv(output_path, index=False)"
   ]
  },
  {
   "cell_type": "code",
   "execution_count": null,
   "id": "22fbeef0",
   "metadata": {},
   "outputs": [],
   "source": [
    "# Cell 12 - Prediction Done\n",
    "print(\"Cleaned and predicted. Output saved to uploads/predicted_output.csv\")\n"
   ]
  }
 ],
 "metadata": {
  "kernelspec": {
   "display_name": "Python 3",
   "language": "python",
   "name": "python3"
  },
  "language_info": {
   "codemirror_mode": {
    "name": "ipython",
    "version": 3
   },
   "file_extension": ".py",
   "mimetype": "text/x-python",
   "name": "python",
   "nbconvert_exporter": "python",
   "pygments_lexer": "ipython3",
   "version": "3.13.1"
  }
 },
 "nbformat": 4,
 "nbformat_minor": 5
}
