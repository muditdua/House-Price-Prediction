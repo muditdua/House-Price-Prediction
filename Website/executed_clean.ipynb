{
 "cells": [
  {
   "cell_type": "code",
   "execution_count": 1,
   "id": "50b876eb",
   "metadata": {
    "execution": {
     "iopub.execute_input": "2025-08-17T06:51:46.299515Z",
     "iopub.status.busy": "2025-08-17T06:51:46.299311Z",
     "iopub.status.idle": "2025-08-17T06:51:46.304252Z",
     "shell.execute_reply": "2025-08-17T06:51:46.303327Z"
    },
    "papermill": {
     "duration": 0.010591,
     "end_time": "2025-08-17T06:51:46.305749",
     "exception": false,
     "start_time": "2025-08-17T06:51:46.295158",
     "status": "completed"
    },
    "tags": [
     "parameters"
    ]
   },
   "outputs": [],
   "source": [
    "input_path = None\n",
    "output_path = None"
   ]
  },
  {
   "cell_type": "code",
   "execution_count": 2,
   "id": "a39b03ac",
   "metadata": {
    "execution": {
     "iopub.execute_input": "2025-08-17T06:51:46.313752Z",
     "iopub.status.busy": "2025-08-17T06:51:46.313317Z",
     "iopub.status.idle": "2025-08-17T06:51:46.318435Z",
     "shell.execute_reply": "2025-08-17T06:51:46.317158Z"
    },
    "papermill": {
     "duration": 0.011395,
     "end_time": "2025-08-17T06:51:46.320522",
     "exception": false,
     "start_time": "2025-08-17T06:51:46.309127",
     "status": "completed"
    },
    "tags": [
     "injected-parameters"
    ]
   },
   "outputs": [],
   "source": [
    "# Parameters\n",
    "input_path = \"uploads\\\\realtor-data-small-small.csv\"\n",
    "output_path = \"predictions\\\\predicted_20250817122143.csv\"\n"
   ]
  },
  {
   "cell_type": "code",
   "execution_count": 3,
   "id": "acb9e89d",
   "metadata": {
    "execution": {
     "iopub.execute_input": "2025-08-17T06:51:46.329695Z",
     "iopub.status.busy": "2025-08-17T06:51:46.329060Z",
     "iopub.status.idle": "2025-08-17T06:51:46.770473Z",
     "shell.execute_reply": "2025-08-17T06:51:46.769902Z"
    },
    "papermill": {
     "duration": 0.448007,
     "end_time": "2025-08-17T06:51:46.771966",
     "exception": false,
     "start_time": "2025-08-17T06:51:46.323959",
     "status": "completed"
    },
    "tags": []
   },
   "outputs": [],
   "source": [
    "\n",
    "# Cell 1 - Imports\n",
    "import pandas as pd\n",
    "import numpy as np\n",
    "import joblib\n",
    "import os\n",
    "output_dir = os.path.dirname(output_path)\n",
    "os.makedirs(output_dir, exist_ok=True)\n",
    "\n",
    "# input_filename = \"realtor-data-small.csv\"\n",
    "# filepath = os.path.join(\"uploads\", input_filename)\n"
   ]
  },
  {
   "cell_type": "code",
   "execution_count": 4,
   "id": "c2900d4e",
   "metadata": {
    "execution": {
     "iopub.execute_input": "2025-08-17T06:51:46.776527Z",
     "iopub.status.busy": "2025-08-17T06:51:46.776178Z",
     "iopub.status.idle": "2025-08-17T06:51:46.819410Z",
     "shell.execute_reply": "2025-08-17T06:51:46.818879Z"
    },
    "papermill": {
     "duration": 0.047728,
     "end_time": "2025-08-17T06:51:46.821404",
     "exception": false,
     "start_time": "2025-08-17T06:51:46.773676",
     "status": "completed"
    },
    "tags": []
   },
   "outputs": [],
   "source": [
    "# Cell 2 - Accept file_path from Papermill\n",
    "realtordata = pd.read_csv(input_path)\n",
    "realtordata.columns = realtordata.columns.str.strip().str.lower()"
   ]
  },
  {
   "cell_type": "code",
   "execution_count": 5,
   "id": "a41b880e",
   "metadata": {
    "execution": {
     "iopub.execute_input": "2025-08-17T06:51:46.827635Z",
     "iopub.status.busy": "2025-08-17T06:51:46.827358Z",
     "iopub.status.idle": "2025-08-17T06:51:46.843768Z",
     "shell.execute_reply": "2025-08-17T06:51:46.843111Z"
    },
    "papermill": {
     "duration": 0.022589,
     "end_time": "2025-08-17T06:51:46.845717",
     "exception": false,
     "start_time": "2025-08-17T06:51:46.823128",
     "status": "completed"
    },
    "tags": []
   },
   "outputs": [
    {
     "name": "stdout",
     "output_type": "stream",
     "text": [
      "🧹 Filtered by price range. Remaining rows: 11247\n",
      "❌ Dropped rows: 4943\n"
     ]
    }
   ],
   "source": [
    "# Cell 3 - Drop rows with missing target or key features\n",
    "realtordata = realtordata.dropna(subset=['price', 'house_size', 'zip_code'])\n",
    "# Cell 3.5 - Log-transform skewed features\n",
    "# (Apply before filling missing values)\n",
    "realtordata['house_size'] = np.log1p(realtordata['house_size'])\n",
    "realtordata['acre_lot'] = np.log1p(realtordata['acre_lot'])\n",
    "# ✅ Cell 3.6 - Filter prices between $50,000 and $650,000\n",
    "initial_count = len(realtordata)\n",
    "realtordata = realtordata[(realtordata['price'] >= 50000) & (realtordata['price'] <= 650000)].copy()\n",
    "print(f\"🧹 Filtered by price range. Remaining rows: {len(realtordata)}\")\n",
    "print(f\"❌ Dropped rows: {initial_count - len(realtordata)}\")\n"
   ]
  },
  {
   "cell_type": "code",
   "execution_count": 6,
   "id": "b3f54093",
   "metadata": {
    "execution": {
     "iopub.execute_input": "2025-08-17T06:51:46.854342Z",
     "iopub.status.busy": "2025-08-17T06:51:46.853716Z",
     "iopub.status.idle": "2025-08-17T06:51:46.859595Z",
     "shell.execute_reply": "2025-08-17T06:51:46.859050Z"
    },
    "papermill": {
     "duration": 0.012356,
     "end_time": "2025-08-17T06:51:46.861627",
     "exception": false,
     "start_time": "2025-08-17T06:51:46.849271",
     "status": "completed"
    },
    "tags": []
   },
   "outputs": [],
   "source": [
    "# Cell 4 - Fill missing numeric values\n",
    "for col in ['bed', 'bath', 'acre_lot']:\n",
    "    if col in realtordata.columns:\n",
    "        realtordata[col] = realtordata[col].fillna(realtordata[col].median())"
   ]
  },
  {
   "cell_type": "code",
   "execution_count": 7,
   "id": "10f8b42c",
   "metadata": {
    "execution": {
     "iopub.execute_input": "2025-08-17T06:51:46.866631Z",
     "iopub.status.busy": "2025-08-17T06:51:46.866220Z",
     "iopub.status.idle": "2025-08-17T06:51:46.874012Z",
     "shell.execute_reply": "2025-08-17T06:51:46.872957Z"
    },
    "papermill": {
     "duration": 0.012392,
     "end_time": "2025-08-17T06:51:46.875906",
     "exception": false,
     "start_time": "2025-08-17T06:51:46.863514",
     "status": "completed"
    },
    "tags": []
   },
   "outputs": [],
   "source": [
    "# Cell 5 - Fill missing categorical values\n",
    "for col in ['city', 'state']:\n",
    "    if col in realtordata.columns:\n",
    "        realtordata[col] = realtordata[col].fillna(realtordata[col].mode()[0])"
   ]
  },
  {
   "cell_type": "code",
   "execution_count": 8,
   "id": "59e10b70",
   "metadata": {
    "execution": {
     "iopub.execute_input": "2025-08-17T06:51:46.882652Z",
     "iopub.status.busy": "2025-08-17T06:51:46.882373Z",
     "iopub.status.idle": "2025-08-17T06:51:46.889225Z",
     "shell.execute_reply": "2025-08-17T06:51:46.888171Z"
    },
    "papermill": {
     "duration": 0.011832,
     "end_time": "2025-08-17T06:51:46.890540",
     "exception": false,
     "start_time": "2025-08-17T06:51:46.878708",
     "status": "completed"
    },
    "tags": []
   },
   "outputs": [],
   "source": [
    "# Cell 6 - Drop unneeded columns\n",
    "columns_to_drop = ['street', 'status', 'brokered_by', 'prev_sold_date']\n",
    "realtordata = realtordata.drop(columns=[col for col in columns_to_drop if col in realtordata.columns])"
   ]
  },
  {
   "cell_type": "code",
   "execution_count": 9,
   "id": "e1922f6d",
   "metadata": {
    "execution": {
     "iopub.execute_input": "2025-08-17T06:51:46.897516Z",
     "iopub.status.busy": "2025-08-17T06:51:46.897153Z",
     "iopub.status.idle": "2025-08-17T06:51:46.902692Z",
     "shell.execute_reply": "2025-08-17T06:51:46.901964Z"
    },
    "papermill": {
     "duration": 0.011758,
     "end_time": "2025-08-17T06:51:46.904556",
     "exception": false,
     "start_time": "2025-08-17T06:51:46.892798",
     "status": "completed"
    },
    "tags": []
   },
   "outputs": [],
   "source": [
    "# Cell 7 - Save webdata with 'state' (optional)\n",
    "webdata = realtordata.copy()"
   ]
  },
  {
   "cell_type": "code",
   "execution_count": 10,
   "id": "e16bca4c",
   "metadata": {
    "execution": {
     "iopub.execute_input": "2025-08-17T06:51:46.911904Z",
     "iopub.status.busy": "2025-08-17T06:51:46.911547Z",
     "iopub.status.idle": "2025-08-17T06:51:53.114376Z",
     "shell.execute_reply": "2025-08-17T06:51:53.113507Z"
    },
    "papermill": {
     "duration": 6.209016,
     "end_time": "2025-08-17T06:51:53.116688",
     "exception": false,
     "start_time": "2025-08-17T06:51:46.907672",
     "status": "completed"
    },
    "tags": []
   },
   "outputs": [],
   "source": [
    "# Load the encoder trained on 'city'\n",
    "city_encoder = joblib.load(\"ordinal_encoder_city.pkl\")\n",
    "\n",
    "# Apply encoder to the 'city' column\n",
    "# This replaces the city with an integer encoding\n",
    "realtordata['city'] = city_encoder.transform(realtordata[['city']])\n",
    "# Convert to categorical and set the same categories used during training\n",
    "categories = city_encoder.categories_[0].tolist()\n",
    "realtordata['city'] = pd.Categorical(realtordata['city'], categories=list(range(len(categories))))"
   ]
  },
  {
   "cell_type": "code",
   "execution_count": 11,
   "id": "aaaebda1",
   "metadata": {
    "execution": {
     "iopub.execute_input": "2025-08-17T06:51:53.125913Z",
     "iopub.status.busy": "2025-08-17T06:51:53.125073Z",
     "iopub.status.idle": "2025-08-17T06:51:53.137629Z",
     "shell.execute_reply": "2025-08-17T06:51:53.136367Z"
    },
    "papermill": {
     "duration": 0.019913,
     "end_time": "2025-08-17T06:51:53.140129",
     "exception": false,
     "start_time": "2025-08-17T06:51:53.120216",
     "status": "completed"
    },
    "tags": []
   },
   "outputs": [],
   "source": [
    "# Cell 8 - One-hot encode for ML\n",
    "ml_data = pd.get_dummies(realtordata.drop(columns=['price']), columns=['state'], drop_first=True)"
   ]
  },
  {
   "cell_type": "code",
   "execution_count": 12,
   "id": "f397d2dd",
   "metadata": {
    "execution": {
     "iopub.execute_input": "2025-08-17T06:51:53.147631Z",
     "iopub.status.busy": "2025-08-17T06:51:53.147159Z",
     "iopub.status.idle": "2025-08-17T06:51:54.845322Z",
     "shell.execute_reply": "2025-08-17T06:51:54.844207Z"
    },
    "papermill": {
     "duration": 1.704885,
     "end_time": "2025-08-17T06:51:54.847603",
     "exception": false,
     "start_time": "2025-08-17T06:51:53.142718",
     "status": "completed"
    },
    "tags": []
   },
   "outputs": [],
   "source": [
    "# ✅ Load both models and trained columns\n",
    "quantile_model = joblib.load(\"realtor_quantile_model.pkl\")\n",
    "mean_model = joblib.load(\"realtor_mean_model.pkl\")\n",
    "trained_cols = joblib.load(\"trained_columns.pkl\")\n",
    "\n",
    "# ✅ Align columns\n",
    "for col in trained_cols:\n",
    "    if col not in ml_data.columns:\n",
    "        ml_data[col] = 0\n",
    "\n",
    "ml_data = ml_data[trained_cols]\n"
   ]
  },
  {
   "cell_type": "code",
   "execution_count": 13,
   "id": "85a09565",
   "metadata": {
    "execution": {
     "iopub.execute_input": "2025-08-17T06:51:54.855758Z",
     "iopub.status.busy": "2025-08-17T06:51:54.854982Z",
     "iopub.status.idle": "2025-08-17T06:51:56.823045Z",
     "shell.execute_reply": "2025-08-17T06:51:56.822398Z"
    },
    "papermill": {
     "duration": 1.973771,
     "end_time": "2025-08-17T06:51:56.824574",
     "exception": false,
     "start_time": "2025-08-17T06:51:54.850803",
     "status": "completed"
    },
    "tags": []
   },
   "outputs": [],
   "source": [
    "# ✅ Predict with both models\n",
    "X = ml_data\n",
    "quantile_pred_log = quantile_model.predict(X)\n",
    "mean_pred_log = mean_model.predict(X)\n",
    "\n",
    "# ✅ Reverse log1p\n",
    "quantile_pred = np.expm1(quantile_pred_log)\n",
    "mean_pred = np.expm1(mean_pred_log)\n",
    "\n",
    "# ✅ Blend predictions\n",
    "final_pred = 0.90 * quantile_pred + 0.10 * mean_pred\n"
   ]
  },
  {
   "cell_type": "code",
   "execution_count": 14,
   "id": "e5a0a85a",
   "metadata": {
    "execution": {
     "iopub.execute_input": "2025-08-17T06:51:56.831457Z",
     "iopub.status.busy": "2025-08-17T06:51:56.830789Z",
     "iopub.status.idle": "2025-08-17T06:51:56.902482Z",
     "shell.execute_reply": "2025-08-17T06:51:56.901632Z"
    },
    "papermill": {
     "duration": 0.077414,
     "end_time": "2025-08-17T06:51:56.904536",
     "exception": false,
     "start_time": "2025-08-17T06:51:56.827122",
     "status": "completed"
    },
    "tags": []
   },
   "outputs": [],
   "source": [
    "# ✅ Cell 11 - Add prediction to webdata and save final output\n",
    "webdata[\"predicted_price\"] = final_pred.round(0).astype(int)\n",
    "webdata.to_csv(output_path, index=False)"
   ]
  },
  {
   "cell_type": "code",
   "execution_count": 15,
   "id": "22fbeef0",
   "metadata": {
    "execution": {
     "iopub.execute_input": "2025-08-17T06:51:56.910867Z",
     "iopub.status.busy": "2025-08-17T06:51:56.910587Z",
     "iopub.status.idle": "2025-08-17T06:51:56.914481Z",
     "shell.execute_reply": "2025-08-17T06:51:56.913528Z"
    },
    "papermill": {
     "duration": 0.009042,
     "end_time": "2025-08-17T06:51:56.916297",
     "exception": false,
     "start_time": "2025-08-17T06:51:56.907255",
     "status": "completed"
    },
    "tags": []
   },
   "outputs": [
    {
     "name": "stdout",
     "output_type": "stream",
     "text": [
      "✅ Cleaned and predicted. Output saved to uploads/predicted_output.csv\n"
     ]
    }
   ],
   "source": [
    "# ✅ Cell 12 - Done\n",
    "print(\"✅ Cleaned and predicted. Output saved to uploads/predicted_output.csv\")\n"
   ]
  }
 ],
 "metadata": {
  "kernelspec": {
   "display_name": "Python 3",
   "language": "python",
   "name": "python3"
  },
  "language_info": {
   "codemirror_mode": {
    "name": "ipython",
    "version": 3
   },
   "file_extension": ".py",
   "mimetype": "text/x-python",
   "name": "python",
   "nbconvert_exporter": "python",
   "pygments_lexer": "ipython3",
   "version": "3.13.1"
  },
  "papermill": {
   "default_parameters": {},
   "duration": 13.975129,
   "end_time": "2025-08-17T06:51:57.709881",
   "environment_variables": {},
   "exception": null,
   "input_path": "clean.ipynb",
   "output_path": "executed_clean.ipynb",
   "parameters": {
    "input_path": "uploads\\realtor-data-small-small.csv",
    "output_path": "predictions\\predicted_20250817122143.csv"
   },
   "start_time": "2025-08-17T06:51:43.734752",
   "version": "2.6.0"
  }
 },
 "nbformat": 4,
 "nbformat_minor": 5
}